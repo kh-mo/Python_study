{
 "cells": [
  {
   "cell_type": "code",
   "execution_count": null,
   "metadata": {},
   "outputs": [],
   "source": [
    "'''\n",
    "예제 3-1\n",
    "a / b : 정확한 계산 결과\n",
    "a // b : 몫\n",
    "a % b : 나머지\n",
    "\n",
    "O(coint_types 개수) = O(4)\n",
    "'''\n",
    "\n",
    "n = 1260\n",
    "count = 0\n",
    "\n",
    "coin_types = [500, 100, 50 ,10]\n",
    "\n",
    "for coin in coin_types:\n",
    "    count += n // coin\n",
    "    n %= coin\n",
    "\n",
    "print(count)"
   ]
  },
  {
   "cell_type": "code",
   "execution_count": null,
   "metadata": {},
   "outputs": [],
   "source": [
    "'''\n",
    "실전 문제 : 큰 수의 법칙\n",
    "'''\n",
    "import random\n",
    "# random.randint(a, b) # a에서 b 사이의 랜덤 정수를 반환\n",
    "# N, M, K = random.randint(2, 1000), random.randint(1, 10000), random.randint(1, 10000)\n",
    "N, M, K = random.randint(2, 10), random.randint(1, 10), random.randint(1, 10)\n",
    "\n",
    "while True:\n",
    "    if K > M:\n",
    "        M, K = random.randint(1, 10), random.randint(1, 10)\n",
    "    else:\n",
    "        break\n",
    "print(N, M, K)\n",
    "\n",
    "import numpy as np\n",
    "# np.random.randint(1, 10000, N)\n",
    "N_array = np.random.randint(2, 10, N).tolist()\n",
    "print(N_array)\n",
    "\n"
   ]
  },
  {
   "cell_type": "code",
   "execution_count": null,
   "metadata": {},
   "outputs": [],
   "source": []
  }
 ],
 "metadata": {
  "interpreter": {
   "hash": "9b5a149b3a413f8e4678df34866629c2cb39102d8ea4b3563eb66c5dd47140c4"
  },
  "kernelspec": {
   "display_name": "Python 3.8.8 64-bit ('algorithm': conda)",
   "language": "python",
   "name": "python3"
  },
  "language_info": {
   "codemirror_mode": {
    "name": "ipython",
    "version": 3
   },
   "file_extension": ".py",
   "mimetype": "text/x-python",
   "name": "python",
   "nbconvert_exporter": "python",
   "pygments_lexer": "ipython3",
   "version": "3.8.8"
  },
  "orig_nbformat": 4
 },
 "nbformat": 4,
 "nbformat_minor": 2
}
