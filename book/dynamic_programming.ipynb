{
 "cells": [
  {
   "cell_type": "code",
   "execution_count": null,
   "metadata": {},
   "outputs": [],
   "source": [
    "'''\n",
    "동적 계획법(Dynamic Programming) : \n",
    "    - 큰 문제를 작은 문제로 나눌 수 있는 문제에 적용하면 좋다.\n",
    "    - 작은 문제에서 구한 정답이 그것을 포함하는 큰 문제에서도 동일하면 적용할 수 있다.\n",
    "'''\n",
    "\n",
    "# 피보나치 함수(Fibonacci Function)를 재귀 함수로 구현 : O(2^N)\n",
    "# n이 커지면 연산 시간이 너무 오래걸려 구할 수 없다.\n",
    "def fibo(x):\n",
    "    if x == 1 or x == 2:\n",
    "        return 1\n",
    "    return fibo(x - 1) + fibo(x - 2)\n",
    "\n",
    "print(fibo(4))"
   ]
  },
  {
   "cell_type": "code",
   "execution_count": null,
   "metadata": {},
   "outputs": [],
   "source": [
    "'''\n",
    "메모이제이션(Memoization)\n",
    "    - 다이나믹 프로그래밍을 구현하는 방법 중 하나.\n",
    "    - 구한 결과를 메모리 공간에 메모해두고 같은 식을 다시 호출하여 결과를 그대로 가져오는 기법.\n",
    "    - 값을 저장하는 방법이기에 캐싱(caching)이라고도 한다.\n",
    "'''\n",
    "\n",
    "# O(N)\n",
    "# 한 번 계산된 결과를 메모이제이션(Memoization)하기 위한 리스트 초기화\n",
    "d = [0] * 100\n",
    "\n",
    "# 피보나치 함수(Fibonacci Function)를 재귀함수로 구현(탑다운 다이나믹 프로그래밍)\n",
    "def fibo(x):\n",
    "    print('f(' + str(x) + ')', end=' ')\n",
    "    # 종료 조건(1 혹은 2일 때 1을 반환)\n",
    "    if x == 1 or x == 2:\n",
    "        return 1\n",
    "    # 이미 계산한 적 있는 문제라면 그대로 반환\n",
    "    if d[x] != 0:\n",
    "        return d[x]\n",
    "    # 아직 계산하지 않은 문제라면 점화식에 따라서 피보나치 결과 반환\n",
    "    d[x] = fibo(x-1) + fibo(x-2)\n",
    "    return d[x]\n",
    "\n",
    "print(fibo(99))"
   ]
  },
  {
   "cell_type": "code",
   "execution_count": null,
   "metadata": {},
   "outputs": [],
   "source": [
    "'''\n",
    "탑다운 방식(Top-Down)\n",
    "    - 재귀 함수를 이용하여 다이나믹 프로그래밍 코드를 작성하는 방법\n",
    "    - 큰 문제를 해결하기 위해 작은 문제를 호출하는 방법\n",
    "    - 하향식\n",
    "바텀업 방식(Bottom-Up)\n",
    "    - 반복문을 이용하여 코드를 작성하는 경우\n",
    "    - 작은 문제부터 차근차근 답을 도출하는 방법\n",
    "    - 상향식\n",
    "'''\n",
    "\n",
    "# 앞서 계산된 결과를 저장하기 위한 DP 테이블 초기화\n",
    "d = [0] * 100\n",
    "\n",
    "# 첫 번째 피보나치 수와 두 번째 피보나치 수는 1\n",
    "d[1] = 1\n",
    "d[2] = 1\n",
    "n = 99\n",
    "\n",
    "# 피보나치 함수(Fibonacci Function) 반복문으로 구현(바텀업 다이나믹 프로그래밍)\n",
    "for i in range(3, n+1):\n",
    "    d[i] = d[i-1] + d[i-2]\n",
    "\n",
    "print(d[n])"
   ]
  },
  {
   "cell_type": "code",
   "execution_count": null,
   "metadata": {},
   "outputs": [],
   "source": []
  }
 ],
 "metadata": {
  "interpreter": {
   "hash": "9b5a149b3a413f8e4678df34866629c2cb39102d8ea4b3563eb66c5dd47140c4"
  },
  "kernelspec": {
   "display_name": "Python 3.8.8 64-bit ('algorithm': conda)",
   "language": "python",
   "name": "python3"
  },
  "language_info": {
   "codemirror_mode": {
    "name": "ipython",
    "version": 3
   },
   "file_extension": ".py",
   "mimetype": "text/x-python",
   "name": "python",
   "nbconvert_exporter": "python",
   "pygments_lexer": "ipython3",
   "version": "3.8.8"
  },
  "orig_nbformat": 4
 },
 "nbformat": 4,
 "nbformat_minor": 2
}
