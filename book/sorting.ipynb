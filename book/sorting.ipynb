{
 "cells": [
  {
   "cell_type": "code",
   "execution_count": null,
   "metadata": {},
   "outputs": [],
   "source": [
    "'''\n",
    "정렬(sorting) : 데이터를 특정한 기준에 따라서 순서대로 나열하는 것.\n",
    "'''"
   ]
  },
  {
   "cell_type": "code",
   "execution_count": null,
   "metadata": {},
   "outputs": [],
   "source": [
    "'''\n",
    "선택 정렬(selection sort) : O(N^2)\n",
    "'''\n",
    "array = [7, 5, 9, 0, 3, 1, 6, 2, 4, 8]\n",
    "\n",
    "for i in range(len(array)):\n",
    "    min_index = i # 가장 작은 원소의 인덱스\n",
    "    for j in range(i + 1, len(array)):\n",
    "        if array[min_index] > array[j]:\n",
    "            min_index = j\n",
    "    array[i], array[min_index] = array[min_index], array[i] # 스와프\n",
    "\n",
    "print(array)"
   ]
  },
  {
   "cell_type": "code",
   "execution_count": null,
   "metadata": {},
   "outputs": [],
   "source": [
    "'''\n",
    "삽입 정렬(insertion sort) : O(N^2)\n",
    "데이터가 거의 정렬되어 있을 때 효율적.\n",
    "'''\n",
    "array = [7, 5, 9, 0, 3, 1, 6, 2, 4, 8]\n",
    "\n",
    "for i in range(1, len(array)):\n",
    "    for j in range(i, 0, -1): # 인덱스 i부터 1까지 감소하며 반복하는 문법\n",
    "        if array[j] < array[j - 1]: # 한 칸씩 왼쪽으로 이동\n",
    "            array[j], array[j - 1] = array[j - 1], array[j]\n",
    "        else: # 자기보다 작은 데이터를 만나면 그 위치에서 멈춤\n",
    "            break\n",
    "\n",
    "print(array)"
   ]
  },
  {
   "cell_type": "code",
   "execution_count": null,
   "metadata": {},
   "outputs": [],
   "source": [
    "'''\n",
    "퀵 정렬 : O(NlogN)\n",
    "    - '병합 정렬'과 함께 대부분의 프로그래밍 언어에서 정렬 라이브러리의 근간이 되는 알고리즘.\n",
    "    - 피벗을 기준으로 교환하여 리스트를 분할해가는 방식.\n",
    "    - 피벗을 선택하는 방법에 따라 퀵 정렬을 여러 알고리즘으로 구분할 수 있고, 교재에서는 리스트의 첫번째 원소를 피벗으로 놓는 호어 분할(hoare partition)을 사용.\n",
    "'''\n",
    "\n",
    "array = [5, 7, 9, 0, 3, 1, 6, 2, 4, 8]\n",
    "\n",
    "def quick_sort(array, start, end):\n",
    "    if start >= end: # 원소가 1개인 경우 종료\n",
    "        return\n",
    "    pivot = start # 피벗은 첫 번재 원소\n",
    "    left = start + 1\n",
    "    right = end\n",
    "    while left <= right:\n",
    "        # 피벗보다 큰 데이터를 찾을 때까지 반복\n",
    "        while left <= end and array[left] <= array[pivot]:\n",
    "            left += 1\n",
    "        # 피벗보다 작은 데이터를 찾을 때까지 반복\n",
    "        while right > start and array[right] >= array[pivot]:\n",
    "            right -= 1\n",
    "        if left > right: # 엇갈렸다면 작은 데이터와 피벗을 교체\n",
    "            array[right], array[pivot] = array[pivot], array[right]\n",
    "        else: # 엇갈리지 않았다면 작은 데이터와 큰 데이터를 교체\n",
    "            array[left], array[right] = array[right], array[left]\n",
    "    quick_sort(array, start, right - 1)\n",
    "    quick_sort(array, right + 1, end)\n",
    "\n",
    "quick_sort(array, 0, len(array)-1)\n",
    "print(array)"
   ]
  },
  {
   "cell_type": "code",
   "execution_count": null,
   "metadata": {},
   "outputs": [],
   "source": [
    "'''\n",
    "계수 정렬(Count Sort) : O(N + K)\n",
    "    - 특정 조건에 부합할 때만 사용할 수 있지만 매우 빠른 정렬 알고리즘.\n",
    "    - 데이터의 크기 범위가 제한되어 정수 형태로 표현할 수 있을 때만 사용 가능한 알고리즘.\n",
    "    - 별도의 리스트를 선언하고 그 안에 정렬에 대한 정보를 담는 방법.\n",
    "\n",
    "장점\n",
    "    - 데이터의 크기가 한정되어 있고, 데이터의 크기가 많이 중복되어 있을수록 유리.\n",
    "단점\n",
    "    - 정렬하고자 하는 데이터가 0과 999999 단 2개만 존재할 때, 100만 크기가 되는 리스트를 선택하는 공간 비효율적인 일이 일어날 수 있다.\n",
    "'''\n",
    "# 모든 원소의 값이 0보다 크거나 같다고 가정\n",
    "array = [7, 5, 9, 0, 3, 1, 6, 2, 9 ,1 ,4, 8, 0, 5, 2]\n",
    "\n",
    "# 모든 범위ㅏ를 포함하는 리스트 선언(모든 값은 0으로 초기화)\n",
    "count = [0] * (max(array) + 1)\n",
    "\n",
    "for i in range(len(array)):\n",
    "    count[array[i]] += 1 # 각 데이터에 해당하는 인덱스의 값 증가\n",
    "\n",
    "for i in range(len(count)): # 리스트에 기록된 정렬 정보 확인\n",
    "    for j in range(count[i]):\n",
    "        print(i, end=' ') # 띄어쓰기를 구분으로 등장한 횟만큼 인덱스 출력\n"
   ]
  },
  {
   "cell_type": "code",
   "execution_count": null,
   "metadata": {},
   "outputs": [],
   "source": [
    "'''\n",
    "파이썬 내장함수\n",
    "sorted()\n",
    "    - 퀵 정렬과 비슷한 병합 정렬을 기반으로 만들어졌고 O(NlogN)을 보장한다.\n",
    "sort()\n",
    "    - list의 내장함수\n",
    "'''\n",
    "\n",
    "array = [7,5,9,0,3,1,6,2,4,8]\n",
    "result = sorted(array)\n",
    "print(result)\n",
    "\n",
    "array = [7,5,9,0,3,1,6,2,4,8]\n",
    "array.sort()\n",
    "print(array)\n",
    "\n",
    "# 정렬 기준을 함수로 만들어 key라는 인자에 넘겨주면 해당 기준에 맞춰 정렬이 이루어짐\n",
    "array = [('바나나', 2), ('사과', 5), ('당근', 3)]\n",
    "def setting(data):\n",
    "    return data[1]\n",
    "result = sorted(array, key=setting)\n",
    "print(result)"
   ]
  }
 ],
 "metadata": {
  "language_info": {
   "name": "python"
  },
  "orig_nbformat": 4
 },
 "nbformat": 4,
 "nbformat_minor": 2
}
